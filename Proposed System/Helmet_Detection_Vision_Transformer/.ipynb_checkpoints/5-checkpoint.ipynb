{
 "cells": [
  {
   "cell_type": "code",
   "execution_count": null,
   "id": "0b572d5b",
   "metadata": {},
   "outputs": [],
   "source": [
    "import os\n",
    "import pandas as pd\n",
    "import torch\n",
    "import torch.nn as nn\n",
    "import torch.optim as optim\n",
    "from torch.utils.data import DataLoader, Dataset\n",
    "from PIL import Image\n",
    "from transformers import ViTForImageClassification, ViTImageProcessor"
   ]
  },
  {
   "cell_type": "code",
   "execution_count": null,
   "id": "27977c5c",
   "metadata": {},
   "outputs": [],
   "source": [
    "# Step 1: Dataset Preparation\n",
    "class HelmetDataset(Dataset):\n",
    "    def __init__(self, csv_file, processor, base_dir=None):\n",
    "        \"\"\"\n",
    "        Initialize the dataset from a CSV file.\n",
    "        Args:\n",
    "            csv_file (str): Path to the CSV file containing image paths and labels.\n",
    "            processor: The image processor for preprocessing.\n",
    "            base_dir (str): Optional base directory to prepend to relative paths.\n",
    "        \"\"\"\n",
    "        self.data = pd.read_csv(csv_file)\n",
    "        self.processor = processor\n",
    "        self.base_dir = base_dir\n",
    "\n",
    "        # Validate and correct paths\n",
    "        self.data['image_path'] = self.data['image_path'].apply(self.validate_path)\n",
    "        if self.data['image_path'].isnull().any():\n",
    "            raise ValueError(\"No valid image paths found in the CSV.\")\n",
    "\n",
    "    def validate_path(self, image_path):\n",
    "        \"\"\"\n",
    "        Validate and correct image paths.\n",
    "        Args:\n",
    "            image_path (str): The original image path from the CSV.\n",
    "        Returns:\n",
    "            str: The valid, corrected image path.\n",
    "        \"\"\"\n",
    "        if self.base_dir and not os.path.isabs(image_path):\n",
    "            image_path = os.path.join(self.base_dir, image_path)\n",
    "\n",
    "        if not os.path.isfile(image_path):\n",
    "            print(f\"Invalid path: {image_path}\")\n",
    "            return None\n",
    "        return image_path\n",
    "\n",
    "    def __len__(self):\n",
    "        return len(self.data)\n",
    "\n",
    "    def __getitem__(self, idx):\n",
    "        \"\"\"\n",
    "        Get a single data point.\n",
    "        Args:\n",
    "            idx (int): Index of the data point.\n",
    "        Returns:\n",
    "            dict: Processed image tensor and label.\n",
    "        \"\"\"\n",
    "        row = self.data.iloc[idx]\n",
    "        image_path = row['image_path']\n",
    "        label = row['label']\n",
    "\n",
    "        # Load and preprocess the image\n",
    "        image = Image.open(image_path).convert(\"RGB\")\n",
    "        inputs = self.processor(images=image, return_tensors=\"pt\")\n",
    "        inputs['pixel_values'] = inputs['pixel_values'].squeeze(0)  # Remove batch dimension\n",
    "        return inputs['pixel_values'], label"
   ]
  },
  {
   "cell_type": "code",
   "execution_count": null,
   "id": "bf68c7b8",
   "metadata": {},
   "outputs": [],
   "source": [
    "# Step 2: Configuration\n",
    "# Paths to CSV files\n",
    "train_csv_path = pd.read_csv(\"./train_labels.csv\")  # CSV with train image paths and labels\n",
    "test_csv_path = pd.read_csv(\"./test_labels.csv\")    # CSV with test image paths and labels\n",
    "#base_dir = \"D:/demo/\" #/dataset/train/images\"  # Base directory for image paths\n",
    "\n",
    "# Initialize the image processor\n",
    "processor = ViTImageProcessor.from_pretrained(\"google/vit-base-patch16-224-in21k\")\n",
    "\n",
    "# Create datasets and DataLoaders\n",
    "train_dataset = HelmetDataset(train_csv_path, processor, base_dir=base_dir)\n",
    "test_dataset = HelmetDataset(test_csv_path, processor, base_dir=base_dir)\n",
    "\n",
    "train_loader = DataLoader(train_dataset, batch_size=8, shuffle=True)\n",
    "test_loader = DataLoader(test_dataset, batch_size=8)\n",
    "\n",
    "# Detect device\n",
    "device = torch.device(\"cuda\" if torch.cuda.is_available() else \"cpu\")\n",
    "print(f\"Using device: {device}\")"
   ]
  },
  {
   "cell_type": "code",
   "execution_count": null,
   "id": "7214a35a",
   "metadata": {},
   "outputs": [],
   "source": [
    "# Step 3: Model Initialization\n",
    "model = ViTForImageClassification.from_pretrained(\n",
    "    \"google/vit-base-patch16-224-in21k\",\n",
    "    num_labels=2,  # Binary classification\n",
    "    ignore_mismatched_sizes=True\n",
    ")\n",
    "model = model.to(device)"
   ]
  },
  {
   "cell_type": "code",
   "execution_count": null,
   "id": "707fdbd0",
   "metadata": {},
   "outputs": [],
   "source": [
    "# Step 4: Loss Function and Optimizer\n",
    "criterion = nn.CrossEntropyLoss()\n",
    "optimizer = optim.AdamW(model.parameters(), lr=2e-5)"
   ]
  },
  {
   "cell_type": "code",
   "execution_count": null,
   "id": "98cfe33e",
   "metadata": {},
   "outputs": [],
   "source": [
    "# Step 5: Training Loop\n",
    "epochs = 5  # Adjust based on requirements\n",
    "for epoch in range(epochs):\n",
    "    model.train()\n",
    "    total_loss = 0\n",
    "\n",
    "    for pixel_values, labels in train_loader:\n",
    "        pixel_values = pixel_values.to(device)\n",
    "        labels = labels.to(device)\n",
    "\n",
    "        # Forward pass\n",
    "        outputs = model(pixel_values=pixel_values)\n",
    "        loss = criterion(outputs.logits, labels)\n",
    "\n",
    "        # Backward pass\n",
    "        optimizer.zero_grad()\n",
    "        loss.backward()\n",
    "        optimizer.step()\n",
    "\n",
    "        total_loss += loss.item()\n",
    "\n",
    "    print(f\"Epoch {epoch + 1}/{epochs}, Loss: {total_loss / len(train_loader):.4f}\")"
   ]
  },
  {
   "cell_type": "code",
   "execution_count": null,
   "id": "7bf22599",
   "metadata": {},
   "outputs": [],
   "source": [
    "# Step 6: Evaluation\n",
    "model.eval()\n",
    "correct = 0\n",
    "total = 0\n",
    "\n",
    "with torch.no_grad():\n",
    "    for pixel_values, labels in test_loader:\n",
    "        pixel_values = pixel_values.to(device)\n",
    "        labels = labels.to(device)\n",
    "\n",
    "        outputs = model(pixel_values=pixel_values)\n",
    "        predictions = torch.argmax(outputs.logits, dim=-1)\n",
    "        correct += (predictions == labels).sum().item()\n",
    "        total += labels.size(0)\n",
    "\n",
    "print(f\"Test Accuracy: {100 * correct / total:.2f}%\")"
   ]
  },
  {
   "cell_type": "code",
   "execution_count": null,
   "id": "27890fe4",
   "metadata": {},
   "outputs": [],
   "source": [
    "# Step 7: Save the Fine-Tuned Model\n",
    "output_dir = \"./helmet_detection_model\"\n",
    "os.makedirs(output_dir, exist_ok=True)\n",
    "model.save_pretrained(output_dir)\n",
    "processor.save_pretrained(output_dir)\n",
    "print(\"Model and processor saved successfully.\")"
   ]
  },
  {
   "cell_type": "code",
   "execution_count": null,
   "id": "ca058dc0",
   "metadata": {},
   "outputs": [],
   "source": [
    "# Step 8: Inference\n",
    "def predict(image_path):\n",
    "    model.eval()\n",
    "    image = Image.open(image_path).convert(\"RGB\")\n",
    "    inputs = processor(images=image, return_tensors=\"pt\").to(device)\n",
    "\n",
    "    with torch.no_grad():\n",
    "        outputs = model(pixel_values=inputs['pixel_values'])\n",
    "        predicted_class = torch.argmax(outputs.logits, dim=-1).item()\n",
    "    return predicted_class"
   ]
  },
  {
   "cell_type": "code",
   "execution_count": null,
   "id": "8356b814",
   "metadata": {},
   "outputs": [],
   "source": [
    "# Test inference\n",
    "test_image = \"./dataset/test/images/BikesHelmets102_png_jpg.rf.6bc6d292ee31801b348ecd1b3ff56e58.jpg\"  # Replace with your test image path\n",
    "predicted_class = predict(test_image)\n",
    "print(f\"Predicted class for the test image: {predicted_class}\")  # 0: no helmet, 1: helmet"
   ]
  }
 ],
 "metadata": {
  "kernelspec": {
   "display_name": "Python 3 (ipykernel)",
   "language": "python",
   "name": "python3"
  },
  "language_info": {
   "codemirror_mode": {
    "name": "ipython",
    "version": 3
   },
   "file_extension": ".py",
   "mimetype": "text/x-python",
   "name": "python",
   "nbconvert_exporter": "python",
   "pygments_lexer": "ipython3",
   "version": "3.11.5"
  }
 },
 "nbformat": 4,
 "nbformat_minor": 5
}
