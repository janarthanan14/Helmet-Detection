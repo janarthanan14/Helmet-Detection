{
 "cells": [
  {
   "cell_type": "code",
   "execution_count": null,
   "id": "16fe7571-3b7f-4524-ae51-0f5bd1d56b72",
   "metadata": {},
   "outputs": [],
   "source": []
  }
 ],
 "metadata": {
  "kernelspec": {
   "display_name": "",
   "name": ""
  },
  "language_info": {
   "name": ""
  }
 },
 "nbformat": 4,
 "nbformat_minor": 5
}
