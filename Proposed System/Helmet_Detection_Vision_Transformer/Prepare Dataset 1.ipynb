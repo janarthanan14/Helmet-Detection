{
 "cells": [
  {
   "cell_type": "code",
   "execution_count": 2,
   "id": "e4908cf4-7f09-49a6-8b14-1b7b777b7015",
   "metadata": {},
   "outputs": [
    {
     "name": "stderr",
     "output_type": "stream",
     "text": [
      "Processing items: 100%|████████████████████████████████████████████████████████████| 3546/3546 [00:56<00:00, 62.38it/s]\n"
     ]
    }
   ],
   "source": [
    "import os\n",
    "from PIL import Image\n",
    "from torchvision import transforms\n",
    "from tqdm import tqdm  # For progress tracking\n",
    "\n",
    "# Set directories\n",
    "DATASET_DIR = \"./dataset/train/images\"\n",
    "PROCESSED_DIR = \"./dataset/train/processed\"\n",
    "\n",
    "# Transformations\n",
    "transform = transforms.Compose([\n",
    "    transforms.Resize((224, 224)),\n",
    "    transforms.ToTensor(),\n",
    "])\n",
    "\n",
    "# Preprocess images\n",
    "def preprocess_images(input_dir, output_dir):\n",
    "    if not os.path.exists(output_dir):\n",
    "        os.makedirs(output_dir)\n",
    "\n",
    "    for item in tqdm(os.listdir(input_dir), desc=\"Processing items\"):\n",
    "        item_path = os.path.join(input_dir, item)\n",
    "\n",
    "        # Handle directories\n",
    "        if os.path.isdir(item_path):\n",
    "            output_folder = os.path.join(output_dir, item)\n",
    "            os.makedirs(output_folder, exist_ok=True)\n",
    "\n",
    "            for img_file in os.listdir(item_path):\n",
    "                img_path = os.path.join(item_path, img_file)\n",
    "                process_and_save_image(img_path, output_folder)\n",
    "        # Handle files directly in the parent directory\n",
    "        elif os.path.isfile(item_path):\n",
    "            process_and_save_image(item_path, output_dir)\n",
    "\n",
    "def process_and_save_image(img_path, output_dir):\n",
    "    try:\n",
    "        img = Image.open(img_path).convert(\"RGB\")  # Open image\n",
    "        processed_img = transform(img)  # Apply transformations\n",
    "        processed_img_pil = transforms.ToPILImage()(processed_img)  # Convert tensor back to PIL image\n",
    "        output_path = os.path.join(output_dir, os.path.basename(img_path))\n",
    "        processed_img_pil.save(output_path)  # Save the processed image\n",
    "    except Exception as e:\n",
    "        print(f\"Error processing {img_path}: {e}\")\n",
    "\n",
    "preprocess_images(DATASET_DIR, PROCESSED_DIR)\n"
   ]
  },
  {
   "cell_type": "code",
   "execution_count": null,
   "id": "f11b2094-72df-4ee0-8d2d-2e176fcdc740",
   "metadata": {},
   "outputs": [],
   "source": []
  }
 ],
 "metadata": {
  "kernelspec": {
   "display_name": "Python 3 (ipykernel)",
   "language": "python",
   "name": "python3"
  },
  "language_info": {
   "codemirror_mode": {
    "name": "ipython",
    "version": 3
   },
   "file_extension": ".py",
   "mimetype": "text/x-python",
   "name": "python",
   "nbconvert_exporter": "python",
   "pygments_lexer": "ipython3",
   "version": "3.11.5"
  }
 },
 "nbformat": 4,
 "nbformat_minor": 5
}
